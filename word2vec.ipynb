{
 "cells": [
  {
   "cell_type": "markdown",
   "id": "muslim-monte",
   "metadata": {},
   "source": [
    "#  Обучаем Word2Wec"
   ]
  },
  {
   "cell_type": "markdown",
   "id": "acting-spider",
   "metadata": {},
   "source": [
    "## Подготовка dataset-а"
   ]
  },
  {
   "cell_type": "code",
   "execution_count": 14,
   "id": "similar-crime",
   "metadata": {},
   "outputs": [],
   "source": [
    "import numpy as np\n",
    "import pandas as pd\n",
    "\n",
    "\n",
    "train = pd.read_parquet('data_fusion_train.parquet', engine='pyarrow')\n",
    "train = train[train.category_id == -1].drop_duplicates('item_name')\n"
   ]
  },
  {
   "cell_type": "code",
   "execution_count": 21,
   "id": "corrected-image",
   "metadata": {},
   "outputs": [],
   "source": [
    "product_names = train['item_name']"
   ]
  },
  {
   "cell_type": "code",
   "execution_count": 25,
   "id": "restricted-fancy",
   "metadata": {},
   "outputs": [
    {
     "name": "stderr",
     "output_type": "stream",
     "text": [
      "[nltk_data] Downloading package stopwords to /home/web/nltk_data...\n",
      "[nltk_data]   Package stopwords is already up-to-date!\n"
     ]
    }
   ],
   "source": [
    "import pymorphy2\n",
    "import re\n",
    "from pymorphy2 import MorphAnalyzer\n",
    "import nltk\n",
    "nltk.download('stopwords')\n",
    "from nltk.corpus import stopwords\n",
    "\n",
    "\n",
    "patterns = \"[A-Za-z0-9!#$%&№'()*+,./:;<=>?@[\\]^_`{|}~—\\\"\\-]+\"\n",
    "stopwords_ru = stopwords.words(\"russian\")\n",
    "morph = MorphAnalyzer()\n",
    "def lemmatize(doc):\n",
    "    doc = re.sub(patterns, ' ', doc)\n",
    "    tokens = []\n",
    "    for token in doc.split():\n",
    "        if token and token not in stopwords_ru:\n",
    "            token = token.strip()\n",
    "            token = morph.normal_forms(token)[0]\n",
    "            \n",
    "            tokens.append(token)\n",
    "    if len(tokens) > 2:\n",
    "        return tokens\n",
    "    return None"
   ]
  },
  {
   "cell_type": "markdown",
   "id": "placed-treasurer",
   "metadata": {},
   "source": [
    "## Обрабатываем 1/10 от всех данных"
   ]
  },
  {
   "cell_type": "code",
   "execution_count": 42,
   "id": "generic-component",
   "metadata": {},
   "outputs": [
    {
     "name": "stderr",
     "output_type": "stream",
     "text": [
      "100%|██████████| 310/310 [07:39<00:00,  1.48s/it]\n"
     ]
    }
   ],
   "source": [
    "from tqdm import tqdm\n",
    "\n",
    "result = []\n",
    "num_iters = int(len(product_names)/1000)\n",
    "last_iter = 0\n",
    "\n",
    "\n",
    "for i in tqdm(range(int(num_iters/10))):\n",
    "    i+=1\n",
    "    if i == num_iters:\n",
    "        result+=product_names[num_iters*1000:].apply(lemmatize).tolist()\n",
    "    else:\n",
    "        result+=product_names[last_iter*1000:i*1000].apply(lemmatize).tolist()\n",
    "    last_iter += 1"
   ]
  },
  {
   "cell_type": "code",
   "execution_count": 77,
   "id": "vocal-covering",
   "metadata": {},
   "outputs": [],
   "source": [
    "data = [[_ for _ in ws if len(_) > 2] for ws in result if ws is not None]"
   ]
  },
  {
   "cell_type": "code",
   "execution_count": 78,
   "id": "resident-preserve",
   "metadata": {},
   "outputs": [],
   "source": [
    "from collections import defaultdict\n",
    "\n",
    "word_freq = defaultdict(int)\n",
    "for tokens in result:\n",
    "    for token in tokens:\n",
    "        word_freq[token] += 1"
   ]
  },
  {
   "cell_type": "code",
   "execution_count": 79,
   "id": "supreme-judgment",
   "metadata": {},
   "outputs": [
    {
     "data": {
      "text/plain": [
       "46838"
      ]
     },
     "execution_count": 79,
     "metadata": {},
     "output_type": "execute_result"
    }
   ],
   "source": [
    "len(word_freq)"
   ]
  },
  {
   "cell_type": "code",
   "execution_count": 80,
   "id": "proprietary-lightning",
   "metadata": {},
   "outputs": [
    {
     "data": {
      "text/plain": [
       "['далее',\n",
       " 'хлеб',\n",
       " 'вес',\n",
       " 'пиво',\n",
       " 'таб',\n",
       " 'салат',\n",
       " 'смотреть',\n",
       " 'сыр',\n",
       " 'напиток',\n",
       " 'печение']"
      ]
     },
     "execution_count": 80,
     "metadata": {},
     "output_type": "execute_result"
    }
   ],
   "source": [
    "sorted(word_freq, key=word_freq.get, reverse=True)[:10]"
   ]
  },
  {
   "cell_type": "markdown",
   "id": "pressing-mobile",
   "metadata": {},
   "source": [
    "## Обучение"
   ]
  },
  {
   "cell_type": "code",
   "execution_count": 81,
   "id": "primary-shannon",
   "metadata": {},
   "outputs": [],
   "source": [
    "from gensim.models import Word2Vec\n",
    "\n",
    "\n",
    "w2v_model = Word2Vec(\n",
    "    min_count=10,\n",
    "    window=2,\n",
    "    size=300,\n",
    "    negative=10,\n",
    "    alpha=0.03,\n",
    "    min_alpha=0.0007,\n",
    "    sample=6e-5,\n",
    "    sg=1)"
   ]
  },
  {
   "cell_type": "code",
   "execution_count": 82,
   "id": "detailed-yeast",
   "metadata": {},
   "outputs": [],
   "source": [
    "w2v_model.build_vocab(data)"
   ]
  },
  {
   "cell_type": "code",
   "execution_count": 83,
   "id": "mathematical-sugar",
   "metadata": {},
   "outputs": [
    {
     "data": {
      "text/plain": [
       "(14696543, 27931980)"
      ]
     },
     "execution_count": 83,
     "metadata": {},
     "output_type": "execute_result"
    }
   ],
   "source": [
    "w2v_model.train(data, total_examples=w2v_model.corpus_count, epochs=30, report_delay=1)"
   ]
  },
  {
   "cell_type": "code",
   "execution_count": 84,
   "id": "accepting-driver",
   "metadata": {},
   "outputs": [],
   "source": [
    "w2v_model.init_sims(replace=True)"
   ]
  },
  {
   "cell_type": "code",
   "execution_count": 87,
   "id": "bottom-costs",
   "metadata": {},
   "outputs": [
    {
     "data": {
      "text/plain": [
       "[('подовый', 0.70289146900177),\n",
       " ('черновский', 0.6585055589675903),\n",
       " ('схк', 0.6546527147293091),\n",
       " ('хби', 0.6544870138168335),\n",
       " ('паляница', 0.6496161222457886),\n",
       " ('ахлеб', 0.647832989692688),\n",
       " ('охк', 0.6436166763305664),\n",
       " ('бхк', 0.6404373645782471),\n",
       " ('нарезна', 0.6393171548843384),\n",
       " ('кишинёвский', 0.6391841769218445)]"
      ]
     },
     "execution_count": 87,
     "metadata": {},
     "output_type": "execute_result"
    }
   ],
   "source": [
    "w2v_model.wv.most_similar(positive=[\"хлеб\"])"
   ]
  },
  {
   "cell_type": "code",
   "execution_count": null,
   "id": "polished-adrian",
   "metadata": {},
   "outputs": [],
   "source": []
  }
 ],
 "metadata": {
  "kernelspec": {
   "display_name": "Python 3",
   "language": "python",
   "name": "python3"
  },
  "language_info": {
   "codemirror_mode": {
    "name": "ipython",
    "version": 3
   },
   "file_extension": ".py",
   "mimetype": "text/x-python",
   "name": "python",
   "nbconvert_exporter": "python",
   "pygments_lexer": "ipython3",
   "version": "3.8.5"
  }
 },
 "nbformat": 4,
 "nbformat_minor": 5
}
