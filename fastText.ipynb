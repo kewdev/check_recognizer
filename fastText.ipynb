{
 "cells": [
  {
   "cell_type": "markdown",
   "id": "rocky-inclusion",
   "metadata": {},
   "source": [
    "### https://webdevblog.ru/gensim-rukovodstvo-dlya-nachinajushhih/\n",
    "### модель https://rusvectores.org/ru/models/"
   ]
  },
  {
   "cell_type": "markdown",
   "id": "insured-poster",
   "metadata": {},
   "source": [
    "# FastText TransferLerning\n"
   ]
  },
  {
   "cell_type": "markdown",
   "id": "rough-seeker",
   "metadata": {},
   "source": [
    "## Загрузка модели"
   ]
  },
  {
   "cell_type": "code",
   "execution_count": null,
   "id": "smooth-bosnia",
   "metadata": {},
   "outputs": [],
   "source": []
  }
 ],
 "metadata": {
  "kernelspec": {
   "display_name": "Python 3",
   "language": "python",
   "name": "python3"
  },
  "language_info": {
   "codemirror_mode": {
    "name": "ipython",
    "version": 3
   },
   "file_extension": ".py",
   "mimetype": "text/x-python",
   "name": "python",
   "nbconvert_exporter": "python",
   "pygments_lexer": "ipython3",
   "version": "3.8.5"
  }
 },
 "nbformat": 4,
 "nbformat_minor": 5
}
