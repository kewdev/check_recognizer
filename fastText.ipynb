{
 "cells": [
  {
   "cell_type": "markdown",
   "id": "rocky-inclusion",
   "metadata": {},
   "source": [
    "### https://webdevblog.ru/gensim-rukovodstvo-dlya-nachinajushhih/\n",
    "### модель https://rusvectores.org/ru/models/"
   ]
  },
  {
   "cell_type": "markdown",
   "id": "insured-poster",
   "metadata": {},
   "source": [
    "# FastText TransferLerning\n"
   ]
  },
  {
   "cell_type": "markdown",
   "id": "rough-seeker",
   "metadata": {},
   "source": [
    "## Загрузка модели"
   ]
  },
  {
   "cell_type": "code",
   "execution_count": 16,
   "id": "military-estate",
   "metadata": {},
   "outputs": [],
   "source": [
    "import compress_fasttext\n",
    "\n",
    "fast_text = compress_fasttext.models.CompressedFastTextKeyedVectors.load(\n",
    "        './fast_text_model/model.model'\n",
    "    )"
   ]
  },
  {
   "cell_type": "markdown",
   "id": "static-extra",
   "metadata": {},
   "source": [
    "## Оценка предобученной модели"
   ]
  },
  {
   "cell_type": "code",
   "execution_count": 17,
   "id": "liable-clearing",
   "metadata": {},
   "outputs": [],
   "source": [
    "import pandas as pd\n",
    "\n",
    "train = pd.read_parquet('data_fusion_train.parquet', engine='pyarrow')\n",
    "train = train[train.category_id != -1].drop_duplicates('item_name')"
   ]
  },
  {
   "cell_type": "code",
   "execution_count": 18,
   "id": "fluid-junior",
   "metadata": {},
   "outputs": [],
   "source": [
    "import re\n",
    "\n",
    "product_names_arr = [[s for s in re.sub(\"[^а-я$]\", \" \", i.lower()).split(' ') if len(s) > 1] for i in train[\"item_name\"].tolist()]\n"
   ]
  },
  {
   "cell_type": "code",
   "execution_count": 19,
   "id": "parental-victim",
   "metadata": {},
   "outputs": [
    {
     "name": "stderr",
     "output_type": "stream",
     "text": [
      "100%|██████████| 48225/48225 [00:04<00:00, 10683.86it/s]\n"
     ]
    }
   ],
   "source": [
    "from tqdm import tqdm\n",
    "\n",
    "product_embenddings_arr = []\n",
    "for product_names in tqdm(product_names_arr):\n",
    "    product_embenddings_arr.append([fast_text[i] for i in product_names])"
   ]
  },
  {
   "cell_type": "code",
   "execution_count": 20,
   "id": "outstanding-convention",
   "metadata": {},
   "outputs": [],
   "source": [
    "sum_of_embds = [sum(i) for i in product_embenddings_arr]"
   ]
  },
  {
   "cell_type": "code",
   "execution_count": 21,
   "id": "virgin-association",
   "metadata": {},
   "outputs": [],
   "source": [
    "from sklearn.neighbors import KNeighborsClassifier\n",
    "\n",
    "data = [i.tolist() if not isinstance(i, int) else [0]*300 for i in sum_of_embds]\n",
    "labels = train[\"category_id\"].tolist()\n"
   ]
  },
  {
   "cell_type": "code",
   "execution_count": 22,
   "id": "automotive-times",
   "metadata": {},
   "outputs": [
    {
     "data": {
      "text/plain": [
       "KNeighborsClassifier()"
      ]
     },
     "execution_count": 22,
     "metadata": {},
     "output_type": "execute_result"
    }
   ],
   "source": [
    "classifier = KNeighborsClassifier()\n",
    "classifier.fit(data, labels)"
   ]
  },
  {
   "cell_type": "code",
   "execution_count": 24,
   "id": "constitutional-extension",
   "metadata": {},
   "outputs": [
    {
     "ename": "KeyboardInterrupt",
     "evalue": "",
     "output_type": "error",
     "traceback": [
      "\u001b[0;31m---------------------------------------------------------------------------\u001b[0m",
      "\u001b[0;31mKeyboardInterrupt\u001b[0m                         Traceback (most recent call last)",
      "\u001b[0;32m<ipython-input-24-a6548fa503de>\u001b[0m in \u001b[0;36m<module>\u001b[0;34m\u001b[0m\n\u001b[1;32m      1\u001b[0m \u001b[0;32mfrom\u001b[0m \u001b[0msklearn\u001b[0m\u001b[0;34m.\u001b[0m\u001b[0mmetrics\u001b[0m \u001b[0;32mimport\u001b[0m \u001b[0mclassification_report\u001b[0m\u001b[0;34m\u001b[0m\u001b[0;34m\u001b[0m\u001b[0m\n\u001b[1;32m      2\u001b[0m \u001b[0;34m\u001b[0m\u001b[0m\n\u001b[0;32m----> 3\u001b[0;31m \u001b[0mreport\u001b[0m \u001b[0;34m=\u001b[0m \u001b[0mclassification_report\u001b[0m\u001b[0;34m(\u001b[0m\u001b[0mclassifier\u001b[0m\u001b[0;34m.\u001b[0m\u001b[0mpredict\u001b[0m\u001b[0;34m(\u001b[0m\u001b[0mdata\u001b[0m\u001b[0;34m)\u001b[0m\u001b[0;34m,\u001b[0m \u001b[0mlabels\u001b[0m\u001b[0;34m)\u001b[0m\u001b[0;34m\u001b[0m\u001b[0;34m\u001b[0m\u001b[0m\n\u001b[0m",
      "\u001b[0;32m~/workspace/kaggle/check_recognizer/venv/lib/python3.8/site-packages/sklearn/neighbors/_classification.py\u001b[0m in \u001b[0;36mpredict\u001b[0;34m(self, X)\u001b[0m\n\u001b[1;32m    195\u001b[0m         \u001b[0mX\u001b[0m \u001b[0;34m=\u001b[0m \u001b[0mcheck_array\u001b[0m\u001b[0;34m(\u001b[0m\u001b[0mX\u001b[0m\u001b[0;34m,\u001b[0m \u001b[0maccept_sparse\u001b[0m\u001b[0;34m=\u001b[0m\u001b[0;34m'csr'\u001b[0m\u001b[0;34m)\u001b[0m\u001b[0;34m\u001b[0m\u001b[0;34m\u001b[0m\u001b[0m\n\u001b[1;32m    196\u001b[0m \u001b[0;34m\u001b[0m\u001b[0m\n\u001b[0;32m--> 197\u001b[0;31m         \u001b[0mneigh_dist\u001b[0m\u001b[0;34m,\u001b[0m \u001b[0mneigh_ind\u001b[0m \u001b[0;34m=\u001b[0m \u001b[0mself\u001b[0m\u001b[0;34m.\u001b[0m\u001b[0mkneighbors\u001b[0m\u001b[0;34m(\u001b[0m\u001b[0mX\u001b[0m\u001b[0;34m)\u001b[0m\u001b[0;34m\u001b[0m\u001b[0;34m\u001b[0m\u001b[0m\n\u001b[0m\u001b[1;32m    198\u001b[0m         \u001b[0mclasses_\u001b[0m \u001b[0;34m=\u001b[0m \u001b[0mself\u001b[0m\u001b[0;34m.\u001b[0m\u001b[0mclasses_\u001b[0m\u001b[0;34m\u001b[0m\u001b[0;34m\u001b[0m\u001b[0m\n\u001b[1;32m    199\u001b[0m         \u001b[0m_y\u001b[0m \u001b[0;34m=\u001b[0m \u001b[0mself\u001b[0m\u001b[0;34m.\u001b[0m\u001b[0m_y\u001b[0m\u001b[0;34m\u001b[0m\u001b[0;34m\u001b[0m\u001b[0m\n",
      "\u001b[0;32m~/workspace/kaggle/check_recognizer/venv/lib/python3.8/site-packages/sklearn/neighbors/_base.py\u001b[0m in \u001b[0;36mkneighbors\u001b[0;34m(self, X, n_neighbors, return_distance)\u001b[0m\n\u001b[1;32m    703\u001b[0m                 \u001b[0mkwds\u001b[0m \u001b[0;34m=\u001b[0m \u001b[0mself\u001b[0m\u001b[0;34m.\u001b[0m\u001b[0meffective_metric_params_\u001b[0m\u001b[0;34m\u001b[0m\u001b[0;34m\u001b[0m\u001b[0m\n\u001b[1;32m    704\u001b[0m \u001b[0;34m\u001b[0m\u001b[0m\n\u001b[0;32m--> 705\u001b[0;31m             chunked_results = list(pairwise_distances_chunked(\n\u001b[0m\u001b[1;32m    706\u001b[0m                 \u001b[0mX\u001b[0m\u001b[0;34m,\u001b[0m \u001b[0mself\u001b[0m\u001b[0;34m.\u001b[0m\u001b[0m_fit_X\u001b[0m\u001b[0;34m,\u001b[0m \u001b[0mreduce_func\u001b[0m\u001b[0;34m=\u001b[0m\u001b[0mreduce_func\u001b[0m\u001b[0;34m,\u001b[0m\u001b[0;34m\u001b[0m\u001b[0;34m\u001b[0m\u001b[0m\n\u001b[1;32m    707\u001b[0m                 \u001b[0mmetric\u001b[0m\u001b[0;34m=\u001b[0m\u001b[0mself\u001b[0m\u001b[0;34m.\u001b[0m\u001b[0meffective_metric_\u001b[0m\u001b[0;34m,\u001b[0m \u001b[0mn_jobs\u001b[0m\u001b[0;34m=\u001b[0m\u001b[0mn_jobs\u001b[0m\u001b[0;34m,\u001b[0m\u001b[0;34m\u001b[0m\u001b[0;34m\u001b[0m\u001b[0m\n",
      "\u001b[0;32m~/workspace/kaggle/check_recognizer/venv/lib/python3.8/site-packages/sklearn/metrics/pairwise.py\u001b[0m in \u001b[0;36mpairwise_distances_chunked\u001b[0;34m(X, Y, reduce_func, metric, n_jobs, working_memory, **kwds)\u001b[0m\n\u001b[1;32m   1621\u001b[0m         \u001b[0;32melse\u001b[0m\u001b[0;34m:\u001b[0m\u001b[0;34m\u001b[0m\u001b[0;34m\u001b[0m\u001b[0m\n\u001b[1;32m   1622\u001b[0m             \u001b[0mX_chunk\u001b[0m \u001b[0;34m=\u001b[0m \u001b[0mX\u001b[0m\u001b[0;34m[\u001b[0m\u001b[0msl\u001b[0m\u001b[0;34m]\u001b[0m\u001b[0;34m\u001b[0m\u001b[0;34m\u001b[0m\u001b[0m\n\u001b[0;32m-> 1623\u001b[0;31m         D_chunk = pairwise_distances(X_chunk, Y, metric=metric,\n\u001b[0m\u001b[1;32m   1624\u001b[0m                                      n_jobs=n_jobs, **kwds)\n\u001b[1;32m   1625\u001b[0m         if ((X is Y or Y is None)\n",
      "\u001b[0;32m~/workspace/kaggle/check_recognizer/venv/lib/python3.8/site-packages/sklearn/utils/validation.py\u001b[0m in \u001b[0;36minner_f\u001b[0;34m(*args, **kwargs)\u001b[0m\n\u001b[1;32m     61\u001b[0m             \u001b[0mextra_args\u001b[0m \u001b[0;34m=\u001b[0m \u001b[0mlen\u001b[0m\u001b[0;34m(\u001b[0m\u001b[0margs\u001b[0m\u001b[0;34m)\u001b[0m \u001b[0;34m-\u001b[0m \u001b[0mlen\u001b[0m\u001b[0;34m(\u001b[0m\u001b[0mall_args\u001b[0m\u001b[0;34m)\u001b[0m\u001b[0;34m\u001b[0m\u001b[0;34m\u001b[0m\u001b[0m\n\u001b[1;32m     62\u001b[0m             \u001b[0;32mif\u001b[0m \u001b[0mextra_args\u001b[0m \u001b[0;34m<=\u001b[0m \u001b[0;36m0\u001b[0m\u001b[0;34m:\u001b[0m\u001b[0;34m\u001b[0m\u001b[0;34m\u001b[0m\u001b[0m\n\u001b[0;32m---> 63\u001b[0;31m                 \u001b[0;32mreturn\u001b[0m \u001b[0mf\u001b[0m\u001b[0;34m(\u001b[0m\u001b[0;34m*\u001b[0m\u001b[0margs\u001b[0m\u001b[0;34m,\u001b[0m \u001b[0;34m**\u001b[0m\u001b[0mkwargs\u001b[0m\u001b[0;34m)\u001b[0m\u001b[0;34m\u001b[0m\u001b[0;34m\u001b[0m\u001b[0m\n\u001b[0m\u001b[1;32m     64\u001b[0m \u001b[0;34m\u001b[0m\u001b[0m\n\u001b[1;32m     65\u001b[0m             \u001b[0;31m# extra_args > 0\u001b[0m\u001b[0;34m\u001b[0m\u001b[0;34m\u001b[0m\u001b[0;34m\u001b[0m\u001b[0m\n",
      "\u001b[0;32m~/workspace/kaggle/check_recognizer/venv/lib/python3.8/site-packages/sklearn/metrics/pairwise.py\u001b[0m in \u001b[0;36mpairwise_distances\u001b[0;34m(X, Y, metric, n_jobs, force_all_finite, **kwds)\u001b[0m\n\u001b[1;32m   1788\u001b[0m         \u001b[0mfunc\u001b[0m \u001b[0;34m=\u001b[0m \u001b[0mpartial\u001b[0m\u001b[0;34m(\u001b[0m\u001b[0mdistance\u001b[0m\u001b[0;34m.\u001b[0m\u001b[0mcdist\u001b[0m\u001b[0;34m,\u001b[0m \u001b[0mmetric\u001b[0m\u001b[0;34m=\u001b[0m\u001b[0mmetric\u001b[0m\u001b[0;34m,\u001b[0m \u001b[0;34m**\u001b[0m\u001b[0mkwds\u001b[0m\u001b[0;34m)\u001b[0m\u001b[0;34m\u001b[0m\u001b[0;34m\u001b[0m\u001b[0m\n\u001b[1;32m   1789\u001b[0m \u001b[0;34m\u001b[0m\u001b[0m\n\u001b[0;32m-> 1790\u001b[0;31m     \u001b[0;32mreturn\u001b[0m \u001b[0m_parallel_pairwise\u001b[0m\u001b[0;34m(\u001b[0m\u001b[0mX\u001b[0m\u001b[0;34m,\u001b[0m \u001b[0mY\u001b[0m\u001b[0;34m,\u001b[0m \u001b[0mfunc\u001b[0m\u001b[0;34m,\u001b[0m \u001b[0mn_jobs\u001b[0m\u001b[0;34m,\u001b[0m \u001b[0;34m**\u001b[0m\u001b[0mkwds\u001b[0m\u001b[0;34m)\u001b[0m\u001b[0;34m\u001b[0m\u001b[0;34m\u001b[0m\u001b[0m\n\u001b[0m\u001b[1;32m   1791\u001b[0m \u001b[0;34m\u001b[0m\u001b[0m\n\u001b[1;32m   1792\u001b[0m \u001b[0;34m\u001b[0m\u001b[0m\n",
      "\u001b[0;32m~/workspace/kaggle/check_recognizer/venv/lib/python3.8/site-packages/sklearn/metrics/pairwise.py\u001b[0m in \u001b[0;36m_parallel_pairwise\u001b[0;34m(X, Y, func, n_jobs, **kwds)\u001b[0m\n\u001b[1;32m   1357\u001b[0m \u001b[0;34m\u001b[0m\u001b[0m\n\u001b[1;32m   1358\u001b[0m     \u001b[0;32mif\u001b[0m \u001b[0meffective_n_jobs\u001b[0m\u001b[0;34m(\u001b[0m\u001b[0mn_jobs\u001b[0m\u001b[0;34m)\u001b[0m \u001b[0;34m==\u001b[0m \u001b[0;36m1\u001b[0m\u001b[0;34m:\u001b[0m\u001b[0;34m\u001b[0m\u001b[0;34m\u001b[0m\u001b[0m\n\u001b[0;32m-> 1359\u001b[0;31m         \u001b[0;32mreturn\u001b[0m \u001b[0mfunc\u001b[0m\u001b[0;34m(\u001b[0m\u001b[0mX\u001b[0m\u001b[0;34m,\u001b[0m \u001b[0mY\u001b[0m\u001b[0;34m,\u001b[0m \u001b[0;34m**\u001b[0m\u001b[0mkwds\u001b[0m\u001b[0;34m)\u001b[0m\u001b[0;34m\u001b[0m\u001b[0;34m\u001b[0m\u001b[0m\n\u001b[0m\u001b[1;32m   1360\u001b[0m \u001b[0;34m\u001b[0m\u001b[0m\n\u001b[1;32m   1361\u001b[0m     \u001b[0;31m# enforce a threading backend to prevent data communication overhead\u001b[0m\u001b[0;34m\u001b[0m\u001b[0;34m\u001b[0m\u001b[0;34m\u001b[0m\u001b[0m\n",
      "\u001b[0;32m~/workspace/kaggle/check_recognizer/venv/lib/python3.8/site-packages/sklearn/utils/validation.py\u001b[0m in \u001b[0;36minner_f\u001b[0;34m(*args, **kwargs)\u001b[0m\n\u001b[1;32m     61\u001b[0m             \u001b[0mextra_args\u001b[0m \u001b[0;34m=\u001b[0m \u001b[0mlen\u001b[0m\u001b[0;34m(\u001b[0m\u001b[0margs\u001b[0m\u001b[0;34m)\u001b[0m \u001b[0;34m-\u001b[0m \u001b[0mlen\u001b[0m\u001b[0;34m(\u001b[0m\u001b[0mall_args\u001b[0m\u001b[0;34m)\u001b[0m\u001b[0;34m\u001b[0m\u001b[0;34m\u001b[0m\u001b[0m\n\u001b[1;32m     62\u001b[0m             \u001b[0;32mif\u001b[0m \u001b[0mextra_args\u001b[0m \u001b[0;34m<=\u001b[0m \u001b[0;36m0\u001b[0m\u001b[0;34m:\u001b[0m\u001b[0;34m\u001b[0m\u001b[0;34m\u001b[0m\u001b[0m\n\u001b[0;32m---> 63\u001b[0;31m                 \u001b[0;32mreturn\u001b[0m \u001b[0mf\u001b[0m\u001b[0;34m(\u001b[0m\u001b[0;34m*\u001b[0m\u001b[0margs\u001b[0m\u001b[0;34m,\u001b[0m \u001b[0;34m**\u001b[0m\u001b[0mkwargs\u001b[0m\u001b[0;34m)\u001b[0m\u001b[0;34m\u001b[0m\u001b[0;34m\u001b[0m\u001b[0m\n\u001b[0m\u001b[1;32m     64\u001b[0m \u001b[0;34m\u001b[0m\u001b[0m\n\u001b[1;32m     65\u001b[0m             \u001b[0;31m# extra_args > 0\u001b[0m\u001b[0;34m\u001b[0m\u001b[0;34m\u001b[0m\u001b[0;34m\u001b[0m\u001b[0m\n",
      "\u001b[0;32m~/workspace/kaggle/check_recognizer/venv/lib/python3.8/site-packages/sklearn/metrics/pairwise.py\u001b[0m in \u001b[0;36meuclidean_distances\u001b[0;34m(X, Y, Y_norm_squared, squared, X_norm_squared)\u001b[0m\n\u001b[1;32m    311\u001b[0m     \u001b[0;32melse\u001b[0m\u001b[0;34m:\u001b[0m\u001b[0;34m\u001b[0m\u001b[0;34m\u001b[0m\u001b[0m\n\u001b[1;32m    312\u001b[0m         \u001b[0;31m# if dtype is already float64, no need to chunk and upcast\u001b[0m\u001b[0;34m\u001b[0m\u001b[0;34m\u001b[0m\u001b[0;34m\u001b[0m\u001b[0m\n\u001b[0;32m--> 313\u001b[0;31m         \u001b[0mdistances\u001b[0m \u001b[0;34m=\u001b[0m \u001b[0;34m-\u001b[0m \u001b[0;36m2\u001b[0m \u001b[0;34m*\u001b[0m \u001b[0msafe_sparse_dot\u001b[0m\u001b[0;34m(\u001b[0m\u001b[0mX\u001b[0m\u001b[0;34m,\u001b[0m \u001b[0mY\u001b[0m\u001b[0;34m.\u001b[0m\u001b[0mT\u001b[0m\u001b[0;34m,\u001b[0m \u001b[0mdense_output\u001b[0m\u001b[0;34m=\u001b[0m\u001b[0;32mTrue\u001b[0m\u001b[0;34m)\u001b[0m\u001b[0;34m\u001b[0m\u001b[0;34m\u001b[0m\u001b[0m\n\u001b[0m\u001b[1;32m    314\u001b[0m         \u001b[0mdistances\u001b[0m \u001b[0;34m+=\u001b[0m \u001b[0mXX\u001b[0m\u001b[0;34m\u001b[0m\u001b[0;34m\u001b[0m\u001b[0m\n\u001b[1;32m    315\u001b[0m         \u001b[0mdistances\u001b[0m \u001b[0;34m+=\u001b[0m \u001b[0mYY\u001b[0m\u001b[0;34m\u001b[0m\u001b[0;34m\u001b[0m\u001b[0m\n",
      "\u001b[0;32m~/workspace/kaggle/check_recognizer/venv/lib/python3.8/site-packages/sklearn/utils/validation.py\u001b[0m in \u001b[0;36minner_f\u001b[0;34m(*args, **kwargs)\u001b[0m\n\u001b[1;32m     61\u001b[0m             \u001b[0mextra_args\u001b[0m \u001b[0;34m=\u001b[0m \u001b[0mlen\u001b[0m\u001b[0;34m(\u001b[0m\u001b[0margs\u001b[0m\u001b[0;34m)\u001b[0m \u001b[0;34m-\u001b[0m \u001b[0mlen\u001b[0m\u001b[0;34m(\u001b[0m\u001b[0mall_args\u001b[0m\u001b[0;34m)\u001b[0m\u001b[0;34m\u001b[0m\u001b[0;34m\u001b[0m\u001b[0m\n\u001b[1;32m     62\u001b[0m             \u001b[0;32mif\u001b[0m \u001b[0mextra_args\u001b[0m \u001b[0;34m<=\u001b[0m \u001b[0;36m0\u001b[0m\u001b[0;34m:\u001b[0m\u001b[0;34m\u001b[0m\u001b[0;34m\u001b[0m\u001b[0m\n\u001b[0;32m---> 63\u001b[0;31m                 \u001b[0;32mreturn\u001b[0m \u001b[0mf\u001b[0m\u001b[0;34m(\u001b[0m\u001b[0;34m*\u001b[0m\u001b[0margs\u001b[0m\u001b[0;34m,\u001b[0m \u001b[0;34m**\u001b[0m\u001b[0mkwargs\u001b[0m\u001b[0;34m)\u001b[0m\u001b[0;34m\u001b[0m\u001b[0;34m\u001b[0m\u001b[0m\n\u001b[0m\u001b[1;32m     64\u001b[0m \u001b[0;34m\u001b[0m\u001b[0m\n\u001b[1;32m     65\u001b[0m             \u001b[0;31m# extra_args > 0\u001b[0m\u001b[0;34m\u001b[0m\u001b[0;34m\u001b[0m\u001b[0;34m\u001b[0m\u001b[0m\n",
      "\u001b[0;32m~/workspace/kaggle/check_recognizer/venv/lib/python3.8/site-packages/sklearn/utils/extmath.py\u001b[0m in \u001b[0;36msafe_sparse_dot\u001b[0;34m(a, b, dense_output)\u001b[0m\n\u001b[1;32m    150\u001b[0m             \u001b[0mret\u001b[0m \u001b[0;34m=\u001b[0m \u001b[0mnp\u001b[0m\u001b[0;34m.\u001b[0m\u001b[0mdot\u001b[0m\u001b[0;34m(\u001b[0m\u001b[0ma\u001b[0m\u001b[0;34m,\u001b[0m \u001b[0mb\u001b[0m\u001b[0;34m)\u001b[0m\u001b[0;34m\u001b[0m\u001b[0;34m\u001b[0m\u001b[0m\n\u001b[1;32m    151\u001b[0m     \u001b[0;32melse\u001b[0m\u001b[0;34m:\u001b[0m\u001b[0;34m\u001b[0m\u001b[0;34m\u001b[0m\u001b[0m\n\u001b[0;32m--> 152\u001b[0;31m         \u001b[0mret\u001b[0m \u001b[0;34m=\u001b[0m \u001b[0ma\u001b[0m \u001b[0;34m@\u001b[0m \u001b[0mb\u001b[0m\u001b[0;34m\u001b[0m\u001b[0;34m\u001b[0m\u001b[0m\n\u001b[0m\u001b[1;32m    153\u001b[0m \u001b[0;34m\u001b[0m\u001b[0m\n\u001b[1;32m    154\u001b[0m     if (sparse.issparse(a) and sparse.issparse(b)\n",
      "\u001b[0;31mKeyboardInterrupt\u001b[0m: "
     ]
    }
   ],
   "source": [
    "from sklearn.metrics import classification_report\n",
    "\n",
    "report = classification_report(classifier.predict(data), labels)"
   ]
  },
  {
   "cell_type": "code",
   "execution_count": null,
   "id": "included-saudi",
   "metadata": {},
   "outputs": [],
   "source": [
    "print(report)"
   ]
  },
  {
   "cell_type": "markdown",
   "id": "worse-discrimination",
   "metadata": {},
   "source": [
    "## Визуализация"
   ]
  },
  {
   "cell_type": "code",
   "execution_count": null,
   "id": "adjustable-genealogy",
   "metadata": {},
   "outputs": [],
   "source": [
    "from sklearn import manifold\n",
    "\n",
    "tsne = manifold.TSNE(n_components = 2, init = 'pca', random_state = 0)\n",
    "data_2d_tsne = tsne.fit_transform(data)"
   ]
  },
  {
   "cell_type": "code",
   "execution_count": null,
   "id": "flexible-sherman",
   "metadata": {},
   "outputs": [],
   "source": [
    "from matplotlib import pyplot as PLT\n",
    "%pylab inline"
   ]
  },
  {
   "cell_type": "code",
   "execution_count": null,
   "id": "written-airline",
   "metadata": {},
   "outputs": [],
   "source": [
    "pylab.figure(figsize = (10, 6))\n",
    "pylab.scatter(data_2d_tsne[:, 0], data_2d_tsne[:, 1], c = labels)"
   ]
  },
  {
   "cell_type": "markdown",
   "id": "usual-worker",
   "metadata": {},
   "source": [
    "# Подготовка данных для обучения "
   ]
  },
  {
   "cell_type": "code",
   "execution_count": 29,
   "id": "controversial-launch",
   "metadata": {},
   "outputs": [],
   "source": [
    "import pandas as pd\n",
    "\n",
    "train_data_fast_text = pd.read_parquet('data_fusion_train.parquet', engine='pyarrow')\n"
   ]
  },
  {
   "cell_type": "code",
   "execution_count": 30,
   "id": "charitable-chicken",
   "metadata": {},
   "outputs": [],
   "source": [
    "train_data_fast_text = train_data_fast_text[train_data_fast_text.category_id == -1].drop_duplicates('item_name')\n"
   ]
  },
  {
   "cell_type": "code",
   "execution_count": 32,
   "id": "verbal-olympus",
   "metadata": {},
   "outputs": [
    {
     "name": "stderr",
     "output_type": "stream",
     "text": [
      "100%|██████████| 26094077/26094077 [04:21<00:00, 99699.21it/s] \n"
     ]
    }
   ],
   "source": [
    "product_names_arr = [[s for s in re.sub(\"[^а-я$]\", \" \", i.lower()).split(' ') if len(s) > 1] for i in tqdm(train_fast_text[\"item_name\"].tolist())]\n"
   ]
  },
  {
   "cell_type": "code",
   "execution_count": 33,
   "id": "together-cricket",
   "metadata": {},
   "outputs": [
    {
     "data": {
      "text/html": [
       "<div>\n",
       "<style scoped>\n",
       "    .dataframe tbody tr th:only-of-type {\n",
       "        vertical-align: middle;\n",
       "    }\n",
       "\n",
       "    .dataframe tbody tr th {\n",
       "        vertical-align: top;\n",
       "    }\n",
       "\n",
       "    .dataframe thead th {\n",
       "        text-align: right;\n",
       "    }\n",
       "</style>\n",
       "<table border=\"1\" class=\"dataframe\">\n",
       "  <thead>\n",
       "    <tr style=\"text-align: right;\">\n",
       "      <th></th>\n",
       "      <th>receipt_id</th>\n",
       "      <th>receipt_dayofweek</th>\n",
       "      <th>receipt_time</th>\n",
       "      <th>item_name</th>\n",
       "      <th>item_quantity</th>\n",
       "      <th>item_price</th>\n",
       "      <th>item_nds_rate</th>\n",
       "      <th>category_id</th>\n",
       "      <th>brands</th>\n",
       "    </tr>\n",
       "  </thead>\n",
       "  <tbody>\n",
       "    <tr>\n",
       "      <th>0</th>\n",
       "      <td>7</td>\n",
       "      <td>5</td>\n",
       "      <td>09:50</td>\n",
       "      <td>Флуконазол капс 150мг №1 Вертекс</td>\n",
       "      <td>1.0</td>\n",
       "      <td>7</td>\n",
       "      <td>-1</td>\n",
       "      <td>-1</td>\n",
       "      <td>вертекс</td>\n",
       "    </tr>\n",
       "    <tr>\n",
       "      <th>1</th>\n",
       "      <td>11</td>\n",
       "      <td>6</td>\n",
       "      <td>20:34</td>\n",
       "      <td>Молоко 3,2%,шт</td>\n",
       "      <td>2.0</td>\n",
       "      <td>8</td>\n",
       "      <td>2</td>\n",
       "      <td>78</td>\n",
       "      <td>None</td>\n",
       "    </tr>\n",
       "    <tr>\n",
       "      <th>2</th>\n",
       "      <td>39</td>\n",
       "      <td>4</td>\n",
       "      <td>11:28</td>\n",
       "      <td>Борщ Станичный с тушенкой, 103 ккал (завод, з/у)</td>\n",
       "      <td>1.0</td>\n",
       "      <td>6</td>\n",
       "      <td>1</td>\n",
       "      <td>-1</td>\n",
       "      <td>None</td>\n",
       "    </tr>\n",
       "    <tr>\n",
       "      <th>3</th>\n",
       "      <td>39</td>\n",
       "      <td>4</td>\n",
       "      <td>11:28</td>\n",
       "      <td>Компот из изюма, 114 ккал</td>\n",
       "      <td>1.0</td>\n",
       "      <td>4</td>\n",
       "      <td>1</td>\n",
       "      <td>71</td>\n",
       "      <td>None</td>\n",
       "    </tr>\n",
       "    <tr>\n",
       "      <th>4</th>\n",
       "      <td>39</td>\n",
       "      <td>4</td>\n",
       "      <td>11:28</td>\n",
       "      <td>Макаронные изделия отварные (масло сливочное),...</td>\n",
       "      <td>1.0</td>\n",
       "      <td>4</td>\n",
       "      <td>1</td>\n",
       "      <td>71</td>\n",
       "      <td>None</td>\n",
       "    </tr>\n",
       "    <tr>\n",
       "      <th>6</th>\n",
       "      <td>39</td>\n",
       "      <td>4</td>\n",
       "      <td>11:28</td>\n",
       "      <td>Филе Горизонт (филе птицы), 218 ккал</td>\n",
       "      <td>1.0</td>\n",
       "      <td>7</td>\n",
       "      <td>1</td>\n",
       "      <td>-1</td>\n",
       "      <td>горизонт</td>\n",
       "    </tr>\n",
       "    <tr>\n",
       "      <th>10</th>\n",
       "      <td>49</td>\n",
       "      <td>3</td>\n",
       "      <td>14:27</td>\n",
       "      <td>3  Бумага Упак 1/Прочи/В асс</td>\n",
       "      <td>1.0</td>\n",
       "      <td>8</td>\n",
       "      <td>1</td>\n",
       "      <td>-1</td>\n",
       "      <td>None</td>\n",
       "    </tr>\n",
       "    <tr>\n",
       "      <th>11</th>\n",
       "      <td>49</td>\n",
       "      <td>3</td>\n",
       "      <td>14:27</td>\n",
       "      <td>4  Бумага Упак 1/Прочи/В асс</td>\n",
       "      <td>1.0</td>\n",
       "      <td>8</td>\n",
       "      <td>1</td>\n",
       "      <td>-1</td>\n",
       "      <td>None</td>\n",
       "    </tr>\n",
       "    <tr>\n",
       "      <th>12</th>\n",
       "      <td>49</td>\n",
       "      <td>3</td>\n",
       "      <td>14:27</td>\n",
       "      <td>Брюки спорт мал SAMO M-1016</td>\n",
       "      <td>1.0</td>\n",
       "      <td>13</td>\n",
       "      <td>6</td>\n",
       "      <td>-1</td>\n",
       "      <td>None</td>\n",
       "    </tr>\n",
       "    <tr>\n",
       "      <th>13</th>\n",
       "      <td>49</td>\n",
       "      <td>3</td>\n",
       "      <td>14:27</td>\n",
       "      <td>Бюстгальтер БН137</td>\n",
       "      <td>1.0</td>\n",
       "      <td>13</td>\n",
       "      <td>-1</td>\n",
       "      <td>-1</td>\n",
       "      <td>None</td>\n",
       "    </tr>\n",
       "  </tbody>\n",
       "</table>\n",
       "</div>"
      ],
      "text/plain": [
       "    receipt_id  receipt_dayofweek receipt_time  \\\n",
       "0            7                  5        09:50   \n",
       "1           11                  6        20:34   \n",
       "2           39                  4        11:28   \n",
       "3           39                  4        11:28   \n",
       "4           39                  4        11:28   \n",
       "6           39                  4        11:28   \n",
       "10          49                  3        14:27   \n",
       "11          49                  3        14:27   \n",
       "12          49                  3        14:27   \n",
       "13          49                  3        14:27   \n",
       "\n",
       "                                            item_name  item_quantity  \\\n",
       "0                    Флуконазол капс 150мг №1 Вертекс            1.0   \n",
       "1                                      Молоко 3,2%,шт            2.0   \n",
       "2    Борщ Станичный с тушенкой, 103 ккал (завод, з/у)            1.0   \n",
       "3                           Компот из изюма, 114 ккал            1.0   \n",
       "4   Макаронные изделия отварные (масло сливочное),...            1.0   \n",
       "6                Филе Горизонт (филе птицы), 218 ккал            1.0   \n",
       "10                       3  Бумага Упак 1/Прочи/В асс            1.0   \n",
       "11                       4  Бумага Упак 1/Прочи/В асс            1.0   \n",
       "12                        Брюки спорт мал SAMO M-1016            1.0   \n",
       "13                                  Бюстгальтер БН137            1.0   \n",
       "\n",
       "    item_price  item_nds_rate  category_id    brands  \n",
       "0            7             -1           -1   вертекс  \n",
       "1            8              2           78      None  \n",
       "2            6              1           -1      None  \n",
       "3            4              1           71      None  \n",
       "4            4              1           71      None  \n",
       "6            7              1           -1  горизонт  \n",
       "10           8              1           -1      None  \n",
       "11           8              1           -1      None  \n",
       "12          13              6           -1      None  \n",
       "13          13             -1           -1      None  "
      ]
     },
     "execution_count": 33,
     "metadata": {},
     "output_type": "execute_result"
    }
   ],
   "source": [
    "train_fast_text[:10]"
   ]
  },
  {
   "cell_type": "markdown",
   "id": "acquired-psychology",
   "metadata": {},
   "source": [
    "## Обучение"
   ]
  },
  {
   "cell_type": "markdown",
   "id": "involved-influence",
   "metadata": {},
   "source": [
    "### Embendding до обучения"
   ]
  },
  {
   "cell_type": "code",
   "execution_count": 34,
   "id": "amazing-turtle",
   "metadata": {},
   "outputs": [
    {
     "data": {
      "text/plain": [
       "array([-1.83336094e-01, -1.25943897e-02, -2.97685176e-01, -2.88096607e-01,\n",
       "        9.81020555e-02,  6.05299249e-02,  4.04848829e-02,  2.12353200e-01,\n",
       "       -2.95661718e-01, -2.16925338e-01,  3.59558165e-02, -3.22789788e-01,\n",
       "       -2.27806624e-02, -1.96019411e-01, -2.56669581e-01,  2.62878835e-01,\n",
       "       -3.80497351e-02, -3.28662217e-01, -2.01166674e-01, -2.06913158e-01,\n",
       "        2.22783804e-01,  1.93487369e-02, -2.76149511e-01,  1.71788186e-01,\n",
       "       -9.44577008e-02,  8.49458426e-02, -1.67114750e-01,  3.18848401e-01,\n",
       "       -1.05811790e-01, -2.64632404e-01,  7.42099062e-02, -1.91953242e-01,\n",
       "        4.12224472e-01, -2.93160856e-01,  7.17218965e-03, -1.22161414e-02,\n",
       "        3.00891511e-02,  2.45449826e-01, -2.60772347e-01,  9.71184075e-02,\n",
       "       -4.01285999e-02,  3.18790525e-02, -3.60920966e-01,  1.55319929e-01,\n",
       "       -2.15977803e-02,  1.74923763e-01, -1.52541967e-02,  8.29191655e-02,\n",
       "       -1.15341023e-01, -3.95677537e-02, -1.42998070e-01,  2.68362939e-01,\n",
       "       -1.45388069e-02,  6.39491975e-02,  5.10108694e-02,  3.14745069e-01,\n",
       "       -1.70183912e-01, -2.00291067e-01, -1.72519162e-01,  6.39112815e-02,\n",
       "       -8.59079361e-02, -1.78580195e-01, -1.25592694e-01,  2.23037481e-01,\n",
       "       -1.35415787e-04,  2.31435701e-01, -2.32025817e-01,  1.15188494e-01,\n",
       "       -1.25556337e-02,  2.82009337e-02,  2.45868713e-01, -4.45015192e-01,\n",
       "       -2.56904010e-02,  6.01308532e-02, -1.27299830e-01, -3.28761756e-01,\n",
       "       -3.90788972e-01, -1.02572873e-01,  1.21836320e-01, -3.74996394e-01,\n",
       "       -1.39206082e-01,  1.64554387e-01, -3.06565519e-02,  1.57534987e-01,\n",
       "       -1.70225501e-01,  1.50679857e-01, -4.55236733e-01, -2.61693187e-02,\n",
       "        1.21305190e-01,  4.65715170e-01,  1.65563568e-01,  8.51259604e-02,\n",
       "       -3.46514106e-01,  2.92380959e-01,  1.91985041e-01,  2.79313624e-01,\n",
       "        5.22743948e-02,  6.74682930e-02, -1.84455156e-01, -2.15601638e-01,\n",
       "       -9.53413993e-02, -9.14633274e-02, -4.91966158e-01, -3.60632762e-02,\n",
       "        1.77642405e-02,  1.89837247e-01, -6.13693967e-02, -2.55875979e-02,\n",
       "        1.71736896e-01,  5.26749007e-02, -2.77343929e-01, -2.95955122e-01,\n",
       "        9.32754055e-02, -4.15272325e-01, -4.02814239e-01, -8.01297091e-03,\n",
       "       -1.55299872e-01, -1.84869438e-01, -2.86891401e-01,  6.49070716e-04,\n",
       "        3.08707416e-01,  3.79663765e-01, -3.62763703e-01,  3.74351025e-01,\n",
       "       -2.43172124e-01,  1.38958126e-01, -3.97102907e-02,  3.15452227e-03,\n",
       "       -7.06792325e-02, -2.28937855e-03, -2.65976250e-01,  1.50853887e-01,\n",
       "        5.79618029e-02,  1.78130984e-01, -2.10459188e-01,  8.46609920e-02,\n",
       "        2.83615977e-01, -8.18594769e-02, -2.39509627e-01,  2.59252816e-01,\n",
       "        8.57118219e-02,  3.32053676e-02, -8.35124627e-02,  5.07675052e-01,\n",
       "        4.10777241e-01, -4.08662498e-01, -5.29416092e-02,  4.10301536e-01,\n",
       "        4.27546315e-02, -1.62404761e-01,  6.56240463e-01,  1.28594548e-01,\n",
       "        3.09474945e-01,  2.14945033e-01,  4.19436514e-01,  2.89453089e-01,\n",
       "        2.18345851e-01,  8.45281854e-02, -2.63463914e-01, -3.36136706e-02,\n",
       "       -7.75311813e-02, -4.91564646e-02,  2.60392100e-01,  6.06896095e-02,\n",
       "        2.64895260e-01, -4.49335873e-02,  1.60166949e-01,  1.65372282e-01,\n",
       "        7.00624809e-02,  2.39306360e-01,  2.46970206e-02, -7.56911412e-02,\n",
       "       -2.13057846e-01, -1.60234705e-01,  2.18472764e-01, -1.96095020e-01,\n",
       "       -2.25538820e-01, -1.26331851e-01,  3.90209258e-01, -8.86322707e-02,\n",
       "       -2.75995322e-02, -6.60311803e-02, -3.60145560e-03,  9.60985497e-02,\n",
       "       -4.05091047e-01,  1.76307082e-01, -3.27298753e-02,  3.05256009e-01,\n",
       "        6.75252825e-02,  3.75652919e-03,  1.80026323e-01,  1.55580789e-01,\n",
       "        4.69461270e-02, -1.70038696e-02,  1.06892623e-01, -1.99402660e-01,\n",
       "        2.03617305e-01, -8.46160576e-02,  5.37591465e-02, -4.19002846e-02,\n",
       "        8.47941488e-02,  1.91527918e-01,  7.42109641e-02,  4.33050953e-02,\n",
       "        6.09319517e-03, -2.87093908e-01, -1.08863831e-01,  1.37938589e-01,\n",
       "       -1.82462007e-01,  5.80802150e-02, -1.78932518e-01,  3.25600915e-02,\n",
       "        2.67831236e-01, -1.24799594e-01,  6.13280594e-01,  6.03987157e-01,\n",
       "       -1.00723386e-01,  3.20612967e-01, -2.46953636e-01,  1.37829497e-01,\n",
       "        3.14010377e-03,  1.72186106e-01,  3.15051436e-01,  3.81756514e-01,\n",
       "       -3.16807359e-01,  7.54240826e-02, -3.54682744e-01, -4.06815894e-02,\n",
       "        3.54523987e-01,  2.17616558e-01, -2.41040617e-01,  2.64293373e-01,\n",
       "       -2.71687031e-01,  1.40689760e-01,  2.03722432e-01,  2.34347936e-02,\n",
       "       -1.74789876e-01, -1.42194584e-01, -2.04575565e-02,  6.27702624e-02,\n",
       "       -1.73254848e-01,  4.31034148e-01,  6.73862100e-02, -2.36229137e-01,\n",
       "        3.46373856e-01,  2.48368457e-01, -3.42440717e-02,  2.24258661e-01,\n",
       "       -3.26866060e-01, -5.34185059e-02,  3.74741077e-01, -1.45960331e-01,\n",
       "       -5.31807952e-02, -1.24448566e-02, -2.88131416e-01,  2.73677379e-01,\n",
       "        2.04841167e-01,  3.06224916e-02, -1.13913856e-01, -2.76371296e-02,\n",
       "       -4.24655735e-01,  1.90103441e-01,  3.60312998e-01, -2.95759618e-01,\n",
       "        2.28313543e-02, -1.15578279e-01,  3.80241483e-01, -5.71537971e-01,\n",
       "       -1.19807303e-01,  1.35067195e-01,  1.58855408e-01, -5.00629768e-02,\n",
       "        7.47891068e-02, -2.02204704e-01,  3.21759492e-01, -2.01778442e-01,\n",
       "       -9.03753415e-02, -1.39253855e-01,  2.70293415e-01, -8.85324031e-02,\n",
       "        2.94704258e-01, -1.52304977e-01,  4.56982069e-02, -4.75531816e-02,\n",
       "       -1.88275769e-01, -9.95730143e-03, -4.92870331e-01,  1.45509437e-01,\n",
       "        1.19957328e-01,  1.96077935e-02,  1.12672530e-01,  5.21266162e-01,\n",
       "        5.97755797e-02,  1.12663731e-01, -1.44451097e-01, -1.50389045e-01,\n",
       "        2.23314017e-03, -4.87764701e-02, -2.03674436e-01,  2.38751061e-02],\n",
       "      dtype=float32)"
      ]
     },
     "execution_count": 34,
     "metadata": {},
     "output_type": "execute_result"
    }
   ],
   "source": [
    "fast_text['хлеб']"
   ]
  },
  {
   "cell_type": "code",
   "execution_count": 36,
   "id": "royal-independence",
   "metadata": {},
   "outputs": [
    {
     "ename": "AttributeError",
     "evalue": "'CompressedFastTextKeyedVectors' object has no attribute 'train'",
     "output_type": "error",
     "traceback": [
      "\u001b[0;31m---------------------------------------------------------------------------\u001b[0m",
      "\u001b[0;31mAttributeError\u001b[0m                            Traceback (most recent call last)",
      "\u001b[0;32m<ipython-input-36-14672544b43e>\u001b[0m in \u001b[0;36m<module>\u001b[0;34m\u001b[0m\n\u001b[1;32m      1\u001b[0m \u001b[0;31m# fast_text.build_vocab(product_names_arr, update=True)\u001b[0m\u001b[0;34m\u001b[0m\u001b[0;34m\u001b[0m\u001b[0;34m\u001b[0m\u001b[0m\n\u001b[0;32m----> 2\u001b[0;31m \u001b[0mfast_text\u001b[0m\u001b[0;34m.\u001b[0m\u001b[0mtrain\u001b[0m\u001b[0;34m(\u001b[0m\u001b[0mproduct_names_arr\u001b[0m\u001b[0;34m,\u001b[0m \u001b[0mtotal_examples\u001b[0m\u001b[0;34m=\u001b[0m\u001b[0mmodel\u001b[0m\u001b[0;34m.\u001b[0m\u001b[0mcorpus_count\u001b[0m\u001b[0;34m,\u001b[0m \u001b[0mepochs\u001b[0m\u001b[0;34m=\u001b[0m\u001b[0mmodel\u001b[0m\u001b[0;34m.\u001b[0m\u001b[0miter\u001b[0m\u001b[0;34m)\u001b[0m\u001b[0;34m\u001b[0m\u001b[0;34m\u001b[0m\u001b[0m\n\u001b[0m",
      "\u001b[0;31mAttributeError\u001b[0m: 'CompressedFastTextKeyedVectors' object has no attribute 'train'"
     ]
    }
   ],
   "source": []
  },
  {
   "cell_type": "markdown",
   "id": "spectacular-struggle",
   "metadata": {},
   "source": [
    "### Embendding после обучения"
   ]
  },
  {
   "cell_type": "code",
   "execution_count": null,
   "id": "decimal-crash",
   "metadata": {},
   "outputs": [],
   "source": [
    "fast_text['хлеб']"
   ]
  },
  {
   "cell_type": "code",
   "execution_count": null,
   "id": "interior-grammar",
   "metadata": {},
   "outputs": [],
   "source": []
  }
 ],
 "metadata": {
  "kernelspec": {
   "display_name": "Python 3",
   "language": "python",
   "name": "python3"
  },
  "language_info": {
   "codemirror_mode": {
    "name": "ipython",
    "version": 3
   },
   "file_extension": ".py",
   "mimetype": "text/x-python",
   "name": "python",
   "nbconvert_exporter": "python",
   "pygments_lexer": "ipython3",
   "version": "3.8.5"
  }
 },
 "nbformat": 4,
 "nbformat_minor": 5
}
