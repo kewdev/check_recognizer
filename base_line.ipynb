{
 "cells": [
  {
   "cell_type": "markdown",
   "metadata": {
    "collapsed": true,
    "pycharm": {
     "name": "#%% md\n"
    }
   },
   "source": [
    "# Базовая модель"
   ]
  },
  {
   "cell_type": "code",
   "execution_count": 1,
   "metadata": {
    "pycharm": {
     "name": "#%%\n"
    }
   },
   "outputs": [],
   "source": [
    "import pandas as pd"
   ]
  },
  {
   "cell_type": "code",
   "execution_count": 2,
   "metadata": {
    "pycharm": {
     "name": "#%%\n"
    }
   },
   "outputs": [],
   "source": [
    "train = pd.read_parquet('data_fusion_train.parquet', engine='pyarrow')\n",
    "train = train[train.category_id != -1].drop_duplicates('item_name')"
   ]
  },
  {
   "cell_type": "markdown",
   "metadata": {},
   "source": [
    "## Сжатая модель FAST TEXT"
   ]
  },
  {
   "cell_type": "code",
   "execution_count": 3,
   "metadata": {
    "pycharm": {
     "name": "#%%\n"
    }
   },
   "outputs": [],
   "source": [
    "import compress_fasttext\n",
    "\n",
    "small_model = compress_fasttext.models.CompressedFastTextKeyedVectors.load(\n",
    "        './ft_freqprune_100K_20K_pq_100.bin'\n",
    "    )"
   ]
  },
  {
   "cell_type": "markdown",
   "metadata": {},
   "source": [
    "## Подготовка данных: удаление всех не кирелических символов и слов короче 2х символов"
   ]
  },
  {
   "cell_type": "code",
   "execution_count": 4,
   "metadata": {
    "pycharm": {
     "name": "#%%\n"
    }
   },
   "outputs": [],
   "source": [
    "import re\n",
    "\n",
    "# for i in train[\"item_name\"].tolist():\n",
    "#     print(i, ': ', [s for s in re.sub(\"[^а-я$]\", \" \", i.lower()).split(' ') if len(s) > 1])\n",
    "#     print()\n",
    "\n",
    "product_names_arr = [[s for s in re.sub(\"[^а-я$]\", \" \", i.lower()).split(' ') if len(s) > 1] for i in train[\"item_name\"].tolist()]\n"
   ]
  },
  {
   "cell_type": "markdown",
   "metadata": {},
   "source": [
    "## Прогон по модели: получение embendding-ов слов"
   ]
  },
  {
   "cell_type": "code",
   "execution_count": 5,
   "metadata": {
    "pycharm": {
     "name": "#%%\n"
    }
   },
   "outputs": [
    {
     "name": "stderr",
     "output_type": "stream",
     "text": [
      "100%|██████████| 48225/48225 [00:18<00:00, 2673.28it/s]\n"
     ]
    }
   ],
   "source": [
    "from tqdm import tqdm\n",
    "\n",
    "product_embenddings_arr = []\n",
    "for product_names in tqdm(product_names_arr):\n",
    "    product_embenddings_arr.append([small_model[i] for i in product_names])\n"
   ]
  },
  {
   "cell_type": "markdown",
   "metadata": {},
   "source": [
    "## Получение embendding-ов товаров"
   ]
  },
  {
   "cell_type": "code",
   "execution_count": 6,
   "metadata": {
    "pycharm": {
     "name": "#%%\n"
    }
   },
   "outputs": [],
   "source": [
    "sum_of_embds = [sum(i) for i in product_embenddings_arr]"
   ]
  },
  {
   "cell_type": "code",
   "execution_count": 7,
   "metadata": {
    "pycharm": {
     "name": "#%%\n"
    }
   },
   "outputs": [],
   "source": [
    "from sklearn.neighbors import KNeighborsClassifier\n",
    "\n",
    "data = [i.tolist() if not isinstance(i, int) else [0]*300 for i in sum_of_embds]\n",
    "labels = train[\"category_id\"].tolist()\n"
   ]
  },
  {
   "cell_type": "code",
   "execution_count": 8,
   "metadata": {},
   "outputs": [
    {
     "data": {
      "text/plain": [
       "KNeighborsClassifier()"
      ]
     },
     "execution_count": 8,
     "metadata": {},
     "output_type": "execute_result"
    }
   ],
   "source": [
    "classifier = KNeighborsClassifier()\n",
    "classifier.fit(data, labels)"
   ]
  },
  {
   "cell_type": "markdown",
   "metadata": {},
   "source": [
    "## Оценка качества"
   ]
  },
  {
   "cell_type": "code",
   "execution_count": 9,
   "metadata": {
    "pycharm": {
     "name": "#%%\n"
    }
   },
   "outputs": [
    {
     "name": "stdout",
     "output_type": "stream",
     "text": [
      "              precision    recall  f1-score   support\n",
      "\n",
      "           0       0.91      0.79      0.84      2726\n",
      "           1       0.75      0.48      0.58        44\n",
      "           2       0.88      0.80      0.84       350\n",
      "           3       0.84      0.77      0.80       120\n",
      "           4       0.68      0.55      0.61       276\n",
      "           6       0.52      0.33      0.40       101\n",
      "           7       0.97      0.92      0.94       238\n",
      "           9       0.98      0.92      0.95       111\n",
      "          11       0.57      0.40      0.47        68\n",
      "          12       0.70      0.63      0.66       204\n",
      "          13       0.51      0.68      0.58        28\n",
      "          19       0.68      0.57      0.62        88\n",
      "          20       0.83      0.83      0.83        59\n",
      "          24       0.54      0.71      0.62        52\n",
      "          26       0.50      0.46      0.48        24\n",
      "          27       0.66      0.76      0.70        33\n",
      "          29       0.86      0.74      0.80       149\n",
      "          30       0.69      0.71      0.70       286\n",
      "          31       0.50      0.54      0.52        35\n",
      "          35       0.52      0.46      0.49        28\n",
      "          36       0.54      0.63      0.58       164\n",
      "          37       0.63      0.51      0.57       152\n",
      "          38       0.94      0.82      0.88      2615\n",
      "          39       0.50      0.78      0.61        27\n",
      "          40       0.71      0.65      0.68       602\n",
      "          41       0.42      0.70      0.52        47\n",
      "          42       0.51      0.56      0.53        86\n",
      "          43       0.78      0.75      0.76       313\n",
      "          45       0.79      0.79      0.79       312\n",
      "          46       0.07      0.33      0.11         3\n",
      "          49       0.69      0.67      0.68       315\n",
      "          50       0.56      0.72      0.63       172\n",
      "          51       0.56      0.74      0.63       244\n",
      "          52       0.70      0.69      0.69       242\n",
      "          53       0.93      0.66      0.77       177\n",
      "          54       0.75      0.81      0.78        83\n",
      "          55       1.00      1.00      1.00        47\n",
      "          56       0.65      0.76      0.70        29\n",
      "          57       0.65      0.75      0.70       216\n",
      "          58       0.93      0.98      0.95        63\n",
      "          60       0.80      0.67      0.73       214\n",
      "          61       0.86      0.79      0.82      1140\n",
      "          62       0.77      0.83      0.80       145\n",
      "          66       0.83      0.67      0.74       292\n",
      "          67       0.86      0.84      0.85       312\n",
      "          68       0.67      0.66      0.67       178\n",
      "          69       0.79      0.61      0.69       574\n",
      "          70       0.86      0.77      0.81       994\n",
      "          71       0.85      0.73      0.79      5497\n",
      "          72       0.65      0.77      0.71       244\n",
      "          73       0.68      0.76      0.72       987\n",
      "          74       0.77      0.85      0.81       921\n",
      "          75       0.67      0.79      0.72       629\n",
      "          76       0.77      0.85      0.81       514\n",
      "          77       0.76      0.82      0.79      1115\n",
      "          78       0.89      0.88      0.89      2897\n",
      "          79       0.72      0.75      0.73       783\n",
      "          80       0.91      0.76      0.83      2219\n",
      "          81       0.75      0.77      0.76      1097\n",
      "          82       0.61      0.75      0.68       444\n",
      "          83       0.89      0.89      0.89      2854\n",
      "          84       0.89      0.84      0.87      7543\n",
      "          85       0.70      0.85      0.77       556\n",
      "          90       0.26      0.76      0.39        17\n",
      "          92       0.74      0.79      0.76       139\n",
      "          96       0.38      0.85      0.52        20\n",
      "          97       0.46      1.00      0.63         6\n",
      "         100       0.00      0.00      0.00         0\n",
      "         101       0.06      1.00      0.11         1\n",
      "         102       0.32      0.86      0.46         7\n",
      "         103       0.35      0.74      0.48        46\n",
      "         105       0.41      0.73      0.52        74\n",
      "         106       0.31      0.85      0.45        13\n",
      "         107       0.59      0.73      0.65       191\n",
      "         108       0.51      0.76      0.61        50\n",
      "         109       0.66      0.81      0.73       188\n",
      "         111       0.34      0.71      0.47        28\n",
      "         114       0.55      0.73      0.62       325\n",
      "         115       0.45      0.68      0.54       112\n",
      "         117       0.59      0.88      0.70       355\n",
      "         118       0.54      0.69      0.61       249\n",
      "         120       0.48      0.86      0.62       175\n",
      "         128       0.64      0.77      0.70        75\n",
      "         130       0.75      0.76      0.75       867\n",
      "         133       0.53      0.73      0.61       131\n",
      "         138       0.37      0.69      0.49        49\n",
      "         139       0.60      0.78      0.67       424\n",
      "         140       0.34      0.80      0.48       142\n",
      "         145       0.78      0.94      0.85       397\n",
      "         150       0.51      0.91      0.65        45\n",
      "         163       0.14      0.67      0.23         9\n",
      "         164       0.22      0.57      0.31        28\n",
      "         167       0.38      0.70      0.50        50\n",
      "         177       0.60      0.20      0.30       354\n",
      "         203       0.36      0.84      0.50        25\n",
      "         204       0.34      0.71      0.46       555\n",
      "\n",
      "    accuracy                           0.78     48225\n",
      "   macro avg       0.62      0.73      0.65     48225\n",
      "weighted avg       0.81      0.78      0.79     48225\n",
      "\n"
     ]
    },
    {
     "name": "stderr",
     "output_type": "stream",
     "text": [
      "/Users/evgenijkazancev/workspase/projects/kaggle/check_recognizer/venv/lib/python3.8/site-packages/sklearn/metrics/_classification.py:1245: UndefinedMetricWarning: Recall and F-score are ill-defined and being set to 0.0 in labels with no true samples. Use `zero_division` parameter to control this behavior.\n",
      "  _warn_prf(average, modifier, msg_start, len(result))\n",
      "/Users/evgenijkazancev/workspase/projects/kaggle/check_recognizer/venv/lib/python3.8/site-packages/sklearn/metrics/_classification.py:1245: UndefinedMetricWarning: Recall and F-score are ill-defined and being set to 0.0 in labels with no true samples. Use `zero_division` parameter to control this behavior.\n",
      "  _warn_prf(average, modifier, msg_start, len(result))\n",
      "/Users/evgenijkazancev/workspase/projects/kaggle/check_recognizer/venv/lib/python3.8/site-packages/sklearn/metrics/_classification.py:1245: UndefinedMetricWarning: Recall and F-score are ill-defined and being set to 0.0 in labels with no true samples. Use `zero_division` parameter to control this behavior.\n",
      "  _warn_prf(average, modifier, msg_start, len(result))\n"
     ]
    }
   ],
   "source": [
    "from sklearn.metrics import classification_report\n",
    "\n",
    "print(classification_report(classifier.predict(data), labels))"
   ]
  },
  {
   "cell_type": "markdown",
   "metadata": {},
   "source": [
    "## Визуализиция embendding-ов"
   ]
  },
  {
   "cell_type": "code",
   "execution_count": 10,
   "metadata": {
    "pycharm": {
     "name": "#%%\n"
    }
   },
   "outputs": [
    {
     "ename": "KeyboardInterrupt",
     "evalue": "",
     "output_type": "error",
     "traceback": [
      "\u001B[0;31m---------------------------------------------------------------------------\u001B[0m",
      "\u001B[0;31mKeyboardInterrupt\u001B[0m                         Traceback (most recent call last)",
      "\u001B[0;32m<ipython-input-10-6c9ac08b7faa>\u001B[0m in \u001B[0;36m<module>\u001B[0;34m\u001B[0m\n\u001B[1;32m      2\u001B[0m \u001B[0;34m\u001B[0m\u001B[0m\n\u001B[1;32m      3\u001B[0m \u001B[0mtsne\u001B[0m \u001B[0;34m=\u001B[0m \u001B[0mmanifold\u001B[0m\u001B[0;34m.\u001B[0m\u001B[0mTSNE\u001B[0m\u001B[0;34m(\u001B[0m\u001B[0mn_components\u001B[0m \u001B[0;34m=\u001B[0m \u001B[0;36m2\u001B[0m\u001B[0;34m,\u001B[0m \u001B[0minit\u001B[0m \u001B[0;34m=\u001B[0m \u001B[0;34m'pca'\u001B[0m\u001B[0;34m,\u001B[0m \u001B[0mrandom_state\u001B[0m \u001B[0;34m=\u001B[0m \u001B[0;36m0\u001B[0m\u001B[0;34m)\u001B[0m\u001B[0;34m\u001B[0m\u001B[0;34m\u001B[0m\u001B[0m\n\u001B[0;32m----> 4\u001B[0;31m \u001B[0mdata_2d_tsne\u001B[0m \u001B[0;34m=\u001B[0m \u001B[0mtsne\u001B[0m\u001B[0;34m.\u001B[0m\u001B[0mfit_transform\u001B[0m\u001B[0;34m(\u001B[0m\u001B[0mdata\u001B[0m\u001B[0;34m)\u001B[0m\u001B[0;34m\u001B[0m\u001B[0;34m\u001B[0m\u001B[0m\n\u001B[0m",
      "\u001B[0;32m~/workspase/projects/kaggle/check_recognizer/venv/lib/python3.8/site-packages/sklearn/manifold/_t_sne.py\u001B[0m in \u001B[0;36mfit_transform\u001B[0;34m(self, X, y)\u001B[0m\n\u001B[1;32m    930\u001B[0m             \u001B[0mEmbedding\u001B[0m \u001B[0mof\u001B[0m \u001B[0mthe\u001B[0m \u001B[0mtraining\u001B[0m \u001B[0mdata\u001B[0m \u001B[0;32min\u001B[0m \u001B[0mlow\u001B[0m\u001B[0;34m-\u001B[0m\u001B[0mdimensional\u001B[0m \u001B[0mspace\u001B[0m\u001B[0;34m.\u001B[0m\u001B[0;34m\u001B[0m\u001B[0;34m\u001B[0m\u001B[0m\n\u001B[1;32m    931\u001B[0m         \"\"\"\n\u001B[0;32m--> 932\u001B[0;31m         \u001B[0membedding\u001B[0m \u001B[0;34m=\u001B[0m \u001B[0mself\u001B[0m\u001B[0;34m.\u001B[0m\u001B[0m_fit\u001B[0m\u001B[0;34m(\u001B[0m\u001B[0mX\u001B[0m\u001B[0;34m)\u001B[0m\u001B[0;34m\u001B[0m\u001B[0;34m\u001B[0m\u001B[0m\n\u001B[0m\u001B[1;32m    933\u001B[0m         \u001B[0mself\u001B[0m\u001B[0;34m.\u001B[0m\u001B[0membedding_\u001B[0m \u001B[0;34m=\u001B[0m \u001B[0membedding\u001B[0m\u001B[0;34m\u001B[0m\u001B[0;34m\u001B[0m\u001B[0m\n\u001B[1;32m    934\u001B[0m         \u001B[0;32mreturn\u001B[0m \u001B[0mself\u001B[0m\u001B[0;34m.\u001B[0m\u001B[0membedding_\u001B[0m\u001B[0;34m\u001B[0m\u001B[0;34m\u001B[0m\u001B[0m\n",
      "\u001B[0;32m~/workspase/projects/kaggle/check_recognizer/venv/lib/python3.8/site-packages/sklearn/manifold/_t_sne.py\u001B[0m in \u001B[0;36m_fit\u001B[0;34m(self, X, skip_num_points)\u001B[0m\n\u001B[1;32m    839\u001B[0m         \u001B[0mdegrees_of_freedom\u001B[0m \u001B[0;34m=\u001B[0m \u001B[0mmax\u001B[0m\u001B[0;34m(\u001B[0m\u001B[0mself\u001B[0m\u001B[0;34m.\u001B[0m\u001B[0mn_components\u001B[0m \u001B[0;34m-\u001B[0m \u001B[0;36m1\u001B[0m\u001B[0;34m,\u001B[0m \u001B[0;36m1\u001B[0m\u001B[0;34m)\u001B[0m\u001B[0;34m\u001B[0m\u001B[0;34m\u001B[0m\u001B[0m\n\u001B[1;32m    840\u001B[0m \u001B[0;34m\u001B[0m\u001B[0m\n\u001B[0;32m--> 841\u001B[0;31m         return self._tsne(P, degrees_of_freedom, n_samples,\n\u001B[0m\u001B[1;32m    842\u001B[0m                           \u001B[0mX_embedded\u001B[0m\u001B[0;34m=\u001B[0m\u001B[0mX_embedded\u001B[0m\u001B[0;34m,\u001B[0m\u001B[0;34m\u001B[0m\u001B[0;34m\u001B[0m\u001B[0m\n\u001B[1;32m    843\u001B[0m                           \u001B[0mneighbors\u001B[0m\u001B[0;34m=\u001B[0m\u001B[0mneighbors_nn\u001B[0m\u001B[0;34m,\u001B[0m\u001B[0;34m\u001B[0m\u001B[0;34m\u001B[0m\u001B[0m\n",
      "\u001B[0;32m~/workspase/projects/kaggle/check_recognizer/venv/lib/python3.8/site-packages/sklearn/manifold/_t_sne.py\u001B[0m in \u001B[0;36m_tsne\u001B[0;34m(self, P, degrees_of_freedom, n_samples, X_embedded, neighbors, skip_num_points)\u001B[0m\n\u001B[1;32m    895\u001B[0m             \u001B[0mopt_args\u001B[0m\u001B[0;34m[\u001B[0m\u001B[0;34m'momentum'\u001B[0m\u001B[0;34m]\u001B[0m \u001B[0;34m=\u001B[0m \u001B[0;36m0.8\u001B[0m\u001B[0;34m\u001B[0m\u001B[0;34m\u001B[0m\u001B[0m\n\u001B[1;32m    896\u001B[0m             \u001B[0mopt_args\u001B[0m\u001B[0;34m[\u001B[0m\u001B[0;34m'n_iter_without_progress'\u001B[0m\u001B[0;34m]\u001B[0m \u001B[0;34m=\u001B[0m \u001B[0mself\u001B[0m\u001B[0;34m.\u001B[0m\u001B[0mn_iter_without_progress\u001B[0m\u001B[0;34m\u001B[0m\u001B[0;34m\u001B[0m\u001B[0m\n\u001B[0;32m--> 897\u001B[0;31m             params, kl_divergence, it = _gradient_descent(obj_func, params,\n\u001B[0m\u001B[1;32m    898\u001B[0m                                                           **opt_args)\n\u001B[1;32m    899\u001B[0m \u001B[0;34m\u001B[0m\u001B[0m\n",
      "\u001B[0;32m~/workspase/projects/kaggle/check_recognizer/venv/lib/python3.8/site-packages/sklearn/manifold/_t_sne.py\u001B[0m in \u001B[0;36m_gradient_descent\u001B[0;34m(objective, p0, it, n_iter, n_iter_check, n_iter_without_progress, momentum, learning_rate, min_gain, min_grad_norm, verbose, args, kwargs)\u001B[0m\n\u001B[1;32m    361\u001B[0m         \u001B[0mkwargs\u001B[0m\u001B[0;34m[\u001B[0m\u001B[0;34m'compute_error'\u001B[0m\u001B[0;34m]\u001B[0m \u001B[0;34m=\u001B[0m \u001B[0mcheck_convergence\u001B[0m \u001B[0;32mor\u001B[0m \u001B[0mi\u001B[0m \u001B[0;34m==\u001B[0m \u001B[0mn_iter\u001B[0m \u001B[0;34m-\u001B[0m \u001B[0;36m1\u001B[0m\u001B[0;34m\u001B[0m\u001B[0;34m\u001B[0m\u001B[0m\n\u001B[1;32m    362\u001B[0m \u001B[0;34m\u001B[0m\u001B[0m\n\u001B[0;32m--> 363\u001B[0;31m         \u001B[0merror\u001B[0m\u001B[0;34m,\u001B[0m \u001B[0mgrad\u001B[0m \u001B[0;34m=\u001B[0m \u001B[0mobjective\u001B[0m\u001B[0;34m(\u001B[0m\u001B[0mp\u001B[0m\u001B[0;34m,\u001B[0m \u001B[0;34m*\u001B[0m\u001B[0margs\u001B[0m\u001B[0;34m,\u001B[0m \u001B[0;34m**\u001B[0m\u001B[0mkwargs\u001B[0m\u001B[0;34m)\u001B[0m\u001B[0;34m\u001B[0m\u001B[0;34m\u001B[0m\u001B[0m\n\u001B[0m\u001B[1;32m    364\u001B[0m         \u001B[0mgrad_norm\u001B[0m \u001B[0;34m=\u001B[0m \u001B[0mlinalg\u001B[0m\u001B[0;34m.\u001B[0m\u001B[0mnorm\u001B[0m\u001B[0;34m(\u001B[0m\u001B[0mgrad\u001B[0m\u001B[0;34m)\u001B[0m\u001B[0;34m\u001B[0m\u001B[0;34m\u001B[0m\u001B[0m\n\u001B[1;32m    365\u001B[0m \u001B[0;34m\u001B[0m\u001B[0m\n",
      "\u001B[0;32m~/workspase/projects/kaggle/check_recognizer/venv/lib/python3.8/site-packages/sklearn/manifold/_t_sne.py\u001B[0m in \u001B[0;36m_kl_divergence_bh\u001B[0;34m(params, P, degrees_of_freedom, n_samples, n_components, angle, skip_num_points, verbose, compute_error, num_threads)\u001B[0m\n\u001B[1;32m    261\u001B[0m \u001B[0;34m\u001B[0m\u001B[0m\n\u001B[1;32m    262\u001B[0m     \u001B[0mgrad\u001B[0m \u001B[0;34m=\u001B[0m \u001B[0mnp\u001B[0m\u001B[0;34m.\u001B[0m\u001B[0mzeros\u001B[0m\u001B[0;34m(\u001B[0m\u001B[0mX_embedded\u001B[0m\u001B[0;34m.\u001B[0m\u001B[0mshape\u001B[0m\u001B[0;34m,\u001B[0m \u001B[0mdtype\u001B[0m\u001B[0;34m=\u001B[0m\u001B[0mnp\u001B[0m\u001B[0;34m.\u001B[0m\u001B[0mfloat32\u001B[0m\u001B[0;34m)\u001B[0m\u001B[0;34m\u001B[0m\u001B[0;34m\u001B[0m\u001B[0m\n\u001B[0;32m--> 263\u001B[0;31m     error = _barnes_hut_tsne.gradient(val_P, X_embedded, neighbors, indptr,\n\u001B[0m\u001B[1;32m    264\u001B[0m                                       \u001B[0mgrad\u001B[0m\u001B[0;34m,\u001B[0m \u001B[0mangle\u001B[0m\u001B[0;34m,\u001B[0m \u001B[0mn_components\u001B[0m\u001B[0;34m,\u001B[0m \u001B[0mverbose\u001B[0m\u001B[0;34m,\u001B[0m\u001B[0;34m\u001B[0m\u001B[0;34m\u001B[0m\u001B[0m\n\u001B[1;32m    265\u001B[0m                                       \u001B[0mdof\u001B[0m\u001B[0;34m=\u001B[0m\u001B[0mdegrees_of_freedom\u001B[0m\u001B[0;34m,\u001B[0m\u001B[0;34m\u001B[0m\u001B[0;34m\u001B[0m\u001B[0m\n",
      "\u001B[0;31mKeyboardInterrupt\u001B[0m: "
     ]
    }
   ],
   "source": [
    "from sklearn import manifold\n",
    "\n",
    "tsne = manifold.TSNE(n_components = 2, init = 'pca', random_state = 0)\n",
    "data_2d_tsne = tsne.fit_transform(data)"
   ]
  },
  {
   "cell_type": "code",
   "execution_count": null,
   "metadata": {
    "pycharm": {
     "name": "#%%\n"
    }
   },
   "outputs": [],
   "source": [
    "from matplotlib import pyplot as PLT\n",
    "%pylab inline"
   ]
  },
  {
   "cell_type": "code",
   "execution_count": null,
   "metadata": {
    "pycharm": {
     "name": "#%%\n"
    }
   },
   "outputs": [],
   "source": [
    "pylab.figure(figsize = (10, 6))\n",
    "pylab.scatter(data_2d_tsne[:, 0], data_2d_tsne[:, 1], c = labels)"
   ]
  },
  {
   "cell_type": "markdown",
   "metadata": {
    "pycharm": {
     "name": "#%% md\n"
    }
   },
   "source": [
    "# Что будет если не выкидывать слова длинной в 1 символ? Качество не изменится"
   ]
  }
 ],
 "metadata": {
  "kernelspec": {
   "display_name": "Python 3",
   "language": "python",
   "name": "python3"
  },
  "language_info": {
   "codemirror_mode": {
    "name": "ipython",
    "version": 3
   },
   "file_extension": ".py",
   "mimetype": "text/x-python",
   "name": "python",
   "nbconvert_exporter": "python",
   "pygments_lexer": "ipython3",
   "version": "3.8.0"
  }
 },
 "nbformat": 4,
 "nbformat_minor": 1
}